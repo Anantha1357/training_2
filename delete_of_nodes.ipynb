{
  "nbformat": 4,
  "nbformat_minor": 0,
  "metadata": {
    "colab": {
      "provenance": [],
      "authorship_tag": "ABX9TyOuZbEkN+Lsq91yrulhQsKL",
      "include_colab_link": true
    },
    "kernelspec": {
      "name": "python3",
      "display_name": "Python 3"
    },
    "language_info": {
      "name": "python"
    }
  },
  "cells": [
    {
      "cell_type": "markdown",
      "metadata": {
        "id": "view-in-github",
        "colab_type": "text"
      },
      "source": [
        "<a href=\"https://colab.research.google.com/github/Anantha1357/training_2/blob/main/delete_of_nodes.ipynb\" target=\"_parent\"><img src=\"https://colab.research.google.com/assets/colab-badge.svg\" alt=\"Open In Colab\"/></a>"
      ]
    },
    {
      "cell_type": "code",
      "execution_count": 1,
      "metadata": {
        "colab": {
          "base_uri": "https://localhost:8080/"
        },
        "id": "8OlCONr8Fwy9",
        "outputId": "cf66ab0e-f7d1-4ead-9450-676d8cda323f"
      },
      "outputs": [
        {
          "output_type": "stream",
          "name": "stdout",
          "text": [
            "inorder traversal of given tree\n",
            "20\n",
            "30\n",
            "40\n",
            "50\n",
            "60\n",
            "70\n",
            "80\n",
            "\n",
            "delete20\n",
            "inorder traversal of modified tree\n",
            "30\n",
            "40\n",
            "50\n",
            "60\n",
            "70\n",
            "80\n",
            "\n",
            "delete30\n",
            "inorder traversal of modified tree\n",
            "40\n",
            "50\n",
            "60\n",
            "70\n",
            "80\n",
            "\n",
            "delete50\n",
            "inorder traversal of given tree\n",
            "40\n",
            "60\n",
            "70\n",
            "80\n"
          ]
        }
      ],
      "source": [
        "class Node:\n",
        "    def __init__(self,key):\n",
        "    \n",
        "        self.left=None\n",
        "        self.right=None\n",
        "        self.key=key\n",
        "def inorder(root):\n",
        "    if root is not None:\n",
        "        inorder(root.left)\n",
        "        print(root.key)\n",
        "        inorder(root.right)\n",
        "def insert(node,key):\n",
        "    if node is None:\n",
        "        return Node(key)\n",
        "    if key< node.key:\n",
        "        node.left = insert(node.left,key)\n",
        "    else:\n",
        "        node.right = insert(node.right,key)\n",
        "    return node\n",
        "def minvalueNode(node):\n",
        "    current = node\n",
        "    while(current.left is not None):\n",
        "        current = current.left\n",
        "    return current\n",
        "def deleteNode(root,key):\n",
        "    if root is None:\n",
        "        return root\n",
        "    if key<root.key:\n",
        "        root.left=deleteNode(root.left,key)\n",
        "    elif(key>root.key):\n",
        "        root.right = deleteNode(root.right,key)\n",
        "    else:\n",
        "        # node only with one child or no child\n",
        "        if root.left is None:\n",
        "            temp = root.right\n",
        "            root = None\n",
        "            return temp\n",
        "        elif root.right is None:\n",
        "            temp = root.left\n",
        "            root = None\n",
        "            return temp\n",
        "            #  node with two children\n",
        "        temp=minvalueNode(root.right)\n",
        "        root.key= temp.key\n",
        "        root.right=deleteNode(root.right,temp.key)\n",
        "    return root\n",
        "            \n",
        "root = None\n",
        "root= insert(root,50)\n",
        "root=insert(root,30)\n",
        "root= insert(root,20)\n",
        "root=insert(root,40)\n",
        "root= insert(root,70)\n",
        "root=insert(root,60)\n",
        "root= insert(root,80)\n",
        "print(\"inorder traversal of given tree\")\n",
        "inorder(root)\n",
        "print(\"\\ndelete20\")\n",
        "root= deleteNode(root,20)\n",
        "print(\"inorder traversal of modified tree\")\n",
        "inorder(root)\n",
        "print(\"\\ndelete30\")\n",
        "root= deleteNode(root,30)\n",
        "print(\"inorder traversal of modified tree\")\n",
        "inorder(root)\n",
        "print(\"\\ndelete50\")\n",
        "root= deleteNode(root,50)\n",
        "print(\"inorder traversal of given tree\")\n",
        "inorder(root)\n"
      ]
    },
    {
      "cell_type": "code",
      "source": [],
      "metadata": {
        "id": "Hex8Nv77HZju"
      },
      "execution_count": null,
      "outputs": []
    }
  ]
}