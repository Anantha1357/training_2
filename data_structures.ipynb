{
  "nbformat": 4,
  "nbformat_minor": 0,
  "metadata": {
    "colab": {
      "provenance": [],
      "authorship_tag": "ABX9TyN1y9WilTPR/oB0jzBFPm3E",
      "include_colab_link": true
    },
    "kernelspec": {
      "name": "python3",
      "display_name": "Python 3"
    },
    "language_info": {
      "name": "python"
    }
  },
  "cells": [
    {
      "cell_type": "markdown",
      "metadata": {
        "id": "view-in-github",
        "colab_type": "text"
      },
      "source": [
        "<a href=\"https://colab.research.google.com/github/Anantha1357/training_2/blob/main/data_structures.ipynb\" target=\"_parent\"><img src=\"https://colab.research.google.com/assets/colab-badge.svg\" alt=\"Open In Colab\"/></a>"
      ]
    },
    {
      "cell_type": "code",
      "execution_count": 1,
      "metadata": {
        "colab": {
          "base_uri": "https://localhost:8080/"
        },
        "id": "Qj3hLOxnIFg3",
        "outputId": "7d066bc5-dae1-4f2d-e3be-913334806763"
      },
      "outputs": [
        {
          "output_type": "stream",
          "name": "stdout",
          "text": [
            "20\n",
            "30\n",
            "40\n",
            "50\n",
            "60\n",
            "70\n",
            "80\n"
          ]
        }
      ],
      "source": [
        "class Node:\n",
        "    def __init__(self,key):\n",
        "        self.right= None\n",
        "        self.left = None\n",
        "        self.val = key\n",
        "def insert(root,key):\n",
        "    if root is None:\n",
        "        return Node(key)\n",
        "    else:\n",
        "        if root.val == key:\n",
        "            return root\n",
        "        elif root.val<key:\n",
        "            root.right = insert(root.right,key)\n",
        "        else:\n",
        "            root.left=insert(root.left,key)\n",
        "    return root\n",
        "def inorder(root):\n",
        "    if root:\n",
        "        inorder(root.left)\n",
        "        print(root.val)\n",
        "        inorder(root.right)\n",
        "r = Node(50)\n",
        "r=insert(r,30)\n",
        "r=insert(r,20)\n",
        "r=insert(r,40)\n",
        "r=insert(r,70)\n",
        "r=insert(r,60)\n",
        "r=insert(r,80)\n",
        "#r=insert(r,30)\n",
        "inorder(r)\n"
      ]
    },
    {
      "cell_type": "code",
      "source": [],
      "metadata": {
        "id": "e-OZRekhIo72"
      },
      "execution_count": null,
      "outputs": []
    }
  ]
}