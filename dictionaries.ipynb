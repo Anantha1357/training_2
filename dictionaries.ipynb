{
  "nbformat": 4,
  "nbformat_minor": 0,
  "metadata": {
    "colab": {
      "provenance": [],
      "authorship_tag": "ABX9TyNDD6PL+A9Auwbi3r0MNQbJ",
      "include_colab_link": true
    },
    "kernelspec": {
      "name": "python3",
      "display_name": "Python 3"
    },
    "language_info": {
      "name": "python"
    }
  },
  "cells": [
    {
      "cell_type": "markdown",
      "metadata": {
        "id": "view-in-github",
        "colab_type": "text"
      },
      "source": [
        "<a href=\"https://colab.research.google.com/github/Anantha1357/training_2/blob/main/dictionaries.ipynb\" target=\"_parent\"><img src=\"https://colab.research.google.com/assets/colab-badge.svg\" alt=\"Open In Colab\"/></a>"
      ]
    },
    {
      "cell_type": "code",
      "execution_count": 2,
      "metadata": {
        "colab": {
          "base_uri": "https://localhost:8080/"
        },
        "id": "hG07aIHtHSvM",
        "outputId": "4b899a5c-3c8a-4086-cb1d-529c05baf4d5"
      },
      "outputs": [
        {
          "output_type": "stream",
          "name": "stdout",
          "text": [
            "(parent) has 2 kids(s):\n",
            "sam, and nila\n",
            "(parent) has 3 kids(s):\n",
            "tommy, and timmy, and tammy\n",
            "(parent) has 2 kids(s):\n",
            " diego , and ferret\n"
          ]
        }
      ],
      "source": [
        "families = { 'charley':\n",
        "                   { 'sam':{'boxy','rosy'},\n",
        "                      'nila' :{'pepsi'}},\n",
        "              'devi':\n",
        "                   { 'tommy':{'tony'},\n",
        "                      'timmy':{'hamster'},\n",
        "                      'tammy':{' hamster '}},\n",
        "             'carols':\n",
        "                    {' diego ':'cat','ferret':'fox'}\n",
        "                }\n",
        "for parent , children in families.items():\n",
        "    print(f\"(parent) has {len(children)} kids(s):\")\n",
        "    print(f\"{', and '.join([str(child) for child in  [*children]])}\" )\n",
        "\n"
      ]
    }
  ]
}